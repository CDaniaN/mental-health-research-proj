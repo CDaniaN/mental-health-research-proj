{
 "cells": [
  {
   "cell_type": "code",
   "execution_count": 1,
   "id": "d0a0debd",
   "metadata": {},
   "outputs": [],
   "source": [
    "import pandas as pd\n",
    "from sklearn.model_selection import train_test_split\n",
    "from sklearn.tree import DecisionTreeRegressor\n",
    "from sklearn.metrics import mean_absolute_error\n",
    "from sklearn.ensemble import RandomForestRegressor"
   ]
  },
  {
   "cell_type": "code",
   "execution_count": 2,
   "id": "010468f3",
   "metadata": {},
   "outputs": [],
   "source": [
    "# file path for csv file\n",
    "mentalhealth_file_path = '/home/steph/mental-health-research-proj/student_mental_health.csv'\n",
    "# read and store data in dataframe variable\n",
    "mentalhealth_data = pd.read_csv(mentalhealth_file_path)"
   ]
  },
  {
   "cell_type": "code",
   "execution_count": 3,
   "id": "ac9f41c1",
   "metadata": {},
   "outputs": [],
   "source": [
    "# filter rows with missing values\n",
    "filtered_mentalhealth_data = mentalhealth_data.dropna(axis = 0)\n",
    "# target & features\n",
    "a = filtered_mentalhealth_data.Do_you_have_Depression\n",
    "mentalhealth_features = ['Choose_your_gender', 'Age', 'Your_current_year_of_Study', 'What_is_your_CGPA', 'Marital_status']\n",
    "X = filtered_mentalhealth_data[mentalhealth_features]"
   ]
  },
  {
   "cell_type": "code",
   "execution_count": 4,
   "id": "23226a88",
   "metadata": {},
   "outputs": [],
   "source": [
    "# split data into training and validation data, for both features and target\n",
    "train_X, val_X, train_a, val_a = train_test_split(X, a, random_state = 0)"
   ]
  },
  {
   "cell_type": "code",
   "execution_count": 5,
   "id": "d90d9032",
   "metadata": {},
   "outputs": [],
   "source": [
    "def get_mae(max_leaf_nodes, train_X, val_X, train_a, val_a):\n",
    "    model = DecisionTreeRegressor(max_leaf_nodes = max_leaf_nodes, random_state = 0)\n",
    "    model.fit(train_X, train_a)\n",
    "    predicted_val = model.predict(val_X)\n",
    "    mae = mean_absolute_error(val_a, predicted_val)\n",
    "    return(mae)"
   ]
  },
  {
   "cell_type": "code",
   "execution_count": 6,
   "id": "c6aee17f",
   "metadata": {},
   "outputs": [
    {
     "name": "stdout",
     "output_type": "stream",
     "text": [
      "Max leaf nodes: 5 \t \t Mean Absolute Error: 0\n",
      "Max leaf nodes: 50 \t \t Mean Absolute Error: 0\n",
      "Max leaf nodes: 500 \t \t Mean Absolute Error: 0\n",
      "Max leaf nodes: 5000 \t \t Mean Absolute Error: 0\n"
     ]
    }
   ],
   "source": [
    "# compare MAE w/ different values of max_leaf_nodes\n",
    "for max_leaf_nodes in [5, 50, 500, 5000]:\n",
    "    my_mae = get_mae(max_leaf_nodes, train_X, val_X, train_a, val_a)\n",
    "    print(\"Max leaf nodes: %d \\t \\t Mean Absolute Error: %d\" %(max_leaf_nodes, my_mae))"
   ]
  },
  {
   "cell_type": "code",
   "execution_count": 7,
   "id": "11d64805",
   "metadata": {},
   "outputs": [
    {
     "name": "stdout",
     "output_type": "stream",
     "text": [
      "0.2571391774891775\n"
     ]
    }
   ],
   "source": [
    "# creates forest model instead of decision tree model\n",
    "forest_model = RandomForestRegressor(random_state = 1)\n",
    "forest_model.fit(train_X, train_a)\n",
    "mentalhealth_predictions = forest_model.predict(val_X)\n",
    "print(mean_absolute_error(val_a, mentalhealth_predictions))"
   ]
  }
 ],
 "metadata": {
  "kernelspec": {
   "display_name": "Python 3 (ipykernel)",
   "language": "python",
   "name": "python3"
  },
  "language_info": {
   "codemirror_mode": {
    "name": "ipython",
    "version": 3
   },
   "file_extension": ".py",
   "mimetype": "text/x-python",
   "name": "python",
   "nbconvert_exporter": "python",
   "pygments_lexer": "ipython3",
   "version": "3.10.4"
  }
 },
 "nbformat": 4,
 "nbformat_minor": 5
}
