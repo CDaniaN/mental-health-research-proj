{
 "cells": [
  {
   "cell_type": "code",
   "execution_count": 1,
   "id": "5c2d85cd",
   "metadata": {},
   "outputs": [],
   "source": [
    "import numpy as np # linear algebra\n",
    "import pandas as pd # data processing\n",
    "import matplotlib.pyplot as plt # data visualization\n",
    "import seaborn as sns # statistical data visualization\n",
    "%matplotlib inline\n",
    "\n",
    "# import os\n",
    "# for dirname, _, filenames in os.walk('/kaggle/input'):\n",
    "    # for filename in filenames:\n",
    "        # print(os.path.join(dirname, filename))\n",
    "# removed this since we are not uploading this to kaggle"
   ]
  },
  {
   "cell_type": "code",
   "execution_count": 2,
   "id": "d136b433",
   "metadata": {},
   "outputs": [],
   "source": [
    "import warnings\n",
    "\n",
    "warnings.filterwarnings('ignore')"
   ]
  },
  {
   "cell_type": "code",
   "execution_count": 3,
   "id": "a78c5004",
   "metadata": {},
   "outputs": [],
   "source": [
    "df = pd.read_csv('/home/steph/mental-health-research-proj/student_mental_health.csv')\n",
    "# changed this to work with my directory"
   ]
  },
  {
   "cell_type": "code",
   "execution_count": 4,
   "id": "f18a3cf4",
   "metadata": {},
   "outputs": [
    {
     "data": {
      "text/plain": [
       "(101, 11)"
      ]
     },
     "execution_count": 4,
     "metadata": {},
     "output_type": "execute_result"
    }
   ],
   "source": [
    "df.shape\n",
    "# 101 instances and 11 attributes"
   ]
  },
  {
   "cell_type": "code",
   "execution_count": 5,
   "id": "c7c90b60",
   "metadata": {},
   "outputs": [
    {
     "data": {
      "text/html": [
       "<div>\n",
       "<style scoped>\n",
       "    .dataframe tbody tr th:only-of-type {\n",
       "        vertical-align: middle;\n",
       "    }\n",
       "\n",
       "    .dataframe tbody tr th {\n",
       "        vertical-align: top;\n",
       "    }\n",
       "\n",
       "    .dataframe thead th {\n",
       "        text-align: right;\n",
       "    }\n",
       "</style>\n",
       "<table border=\"1\" class=\"dataframe\">\n",
       "  <thead>\n",
       "    <tr style=\"text-align: right;\">\n",
       "      <th></th>\n",
       "      <th>Timestamp</th>\n",
       "      <th>Choose_your_gender</th>\n",
       "      <th>Age</th>\n",
       "      <th>What_is_your_course</th>\n",
       "      <th>Your_current_year_of_Study</th>\n",
       "      <th>What_is_your_CGPA</th>\n",
       "      <th>Marital_status</th>\n",
       "      <th>Do_you_have_Depression</th>\n",
       "      <th>Do_you_have_Anxiety</th>\n",
       "      <th>Do_you_have_Panic_attack</th>\n",
       "      <th>Did_you_seek_any_specialist_for_a_treatment</th>\n",
       "    </tr>\n",
       "  </thead>\n",
       "  <tbody>\n",
       "    <tr>\n",
       "      <th>0</th>\n",
       "      <td>8/7/2020 12:02</td>\n",
       "      <td>1</td>\n",
       "      <td>18</td>\n",
       "      <td>Engineering</td>\n",
       "      <td>1</td>\n",
       "      <td>3</td>\n",
       "      <td>0</td>\n",
       "      <td>1</td>\n",
       "      <td>0</td>\n",
       "      <td>1</td>\n",
       "      <td>0</td>\n",
       "    </tr>\n",
       "    <tr>\n",
       "      <th>1</th>\n",
       "      <td>8/7/2020 12:04</td>\n",
       "      <td>0</td>\n",
       "      <td>21</td>\n",
       "      <td>Islamic education</td>\n",
       "      <td>2</td>\n",
       "      <td>3</td>\n",
       "      <td>0</td>\n",
       "      <td>0</td>\n",
       "      <td>1</td>\n",
       "      <td>0</td>\n",
       "      <td>0</td>\n",
       "    </tr>\n",
       "    <tr>\n",
       "      <th>2</th>\n",
       "      <td>8/7/2020 12:05</td>\n",
       "      <td>0</td>\n",
       "      <td>19</td>\n",
       "      <td>BIT</td>\n",
       "      <td>1</td>\n",
       "      <td>3</td>\n",
       "      <td>0</td>\n",
       "      <td>1</td>\n",
       "      <td>1</td>\n",
       "      <td>1</td>\n",
       "      <td>0</td>\n",
       "    </tr>\n",
       "    <tr>\n",
       "      <th>3</th>\n",
       "      <td>8/7/2020 12:06</td>\n",
       "      <td>1</td>\n",
       "      <td>22</td>\n",
       "      <td>Laws</td>\n",
       "      <td>3</td>\n",
       "      <td>3</td>\n",
       "      <td>1</td>\n",
       "      <td>1</td>\n",
       "      <td>0</td>\n",
       "      <td>0</td>\n",
       "      <td>0</td>\n",
       "    </tr>\n",
       "    <tr>\n",
       "      <th>4</th>\n",
       "      <td>8/7/2020 12:13</td>\n",
       "      <td>0</td>\n",
       "      <td>23</td>\n",
       "      <td>Mathemathics</td>\n",
       "      <td>4</td>\n",
       "      <td>3</td>\n",
       "      <td>0</td>\n",
       "      <td>0</td>\n",
       "      <td>0</td>\n",
       "      <td>0</td>\n",
       "      <td>0</td>\n",
       "    </tr>\n",
       "  </tbody>\n",
       "</table>\n",
       "</div>"
      ],
      "text/plain": [
       "        Timestamp  Choose_your_gender  Age What_is_your_course  \\\n",
       "0  8/7/2020 12:02                   1   18         Engineering   \n",
       "1  8/7/2020 12:04                   0   21   Islamic education   \n",
       "2  8/7/2020 12:05                   0   19                 BIT   \n",
       "3  8/7/2020 12:06                   1   22                Laws   \n",
       "4  8/7/2020 12:13                   0   23        Mathemathics   \n",
       "\n",
       "   Your_current_year_of_Study  What_is_your_CGPA  Marital_status  \\\n",
       "0                           1                  3               0   \n",
       "1                           2                  3               0   \n",
       "2                           1                  3               0   \n",
       "3                           3                  3               1   \n",
       "4                           4                  3               0   \n",
       "\n",
       "   Do_you_have_Depression  Do_you_have_Anxiety  Do_you_have_Panic_attack  \\\n",
       "0                       1                    0                         1   \n",
       "1                       0                    1                         0   \n",
       "2                       1                    1                         1   \n",
       "3                       1                    0                         0   \n",
       "4                       0                    0                         0   \n",
       "\n",
       "   Did_you_seek_any_specialist_for_a_treatment  \n",
       "0                                            0  \n",
       "1                                            0  \n",
       "2                                            0  \n",
       "3                                            0  \n",
       "4                                            0  "
      ]
     },
     "execution_count": 5,
     "metadata": {},
     "output_type": "execute_result"
    }
   ],
   "source": [
    "df.head()\n",
    "# preview of dataset"
   ]
  },
  {
   "cell_type": "code",
   "execution_count": 6,
   "id": "c41c5bb3",
   "metadata": {},
   "outputs": [
    {
     "name": "stdout",
     "output_type": "stream",
     "text": [
      "<class 'pandas.core.frame.DataFrame'>\n",
      "RangeIndex: 101 entries, 0 to 100\n",
      "Data columns (total 11 columns):\n",
      " #   Column                                       Non-Null Count  Dtype \n",
      "---  ------                                       --------------  ----- \n",
      " 0   Timestamp                                    101 non-null    object\n",
      " 1   Choose_your_gender                           101 non-null    int64 \n",
      " 2   Age                                          101 non-null    int64 \n",
      " 3   What_is_your_course                          101 non-null    object\n",
      " 4   Your_current_year_of_Study                   101 non-null    int64 \n",
      " 5   What_is_your_CGPA                            101 non-null    int64 \n",
      " 6   Marital_status                               101 non-null    int64 \n",
      " 7   Do_you_have_Depression                       101 non-null    int64 \n",
      " 8   Do_you_have_Anxiety                          101 non-null    int64 \n",
      " 9   Do_you_have_Panic_attack                     101 non-null    int64 \n",
      " 10  Did_you_seek_any_specialist_for_a_treatment  101 non-null    int64 \n",
      "dtypes: int64(9), object(2)\n",
      "memory usage: 8.8+ KB\n"
     ]
    }
   ],
   "source": [
    "df.info()"
   ]
  },
  {
   "cell_type": "code",
   "execution_count": 7,
   "id": "e6b86c30",
   "metadata": {},
   "outputs": [
    {
     "data": {
      "text/plain": [
       "Timestamp                                      0\n",
       "Choose_your_gender                             0\n",
       "Age                                            0\n",
       "What_is_your_course                            0\n",
       "Your_current_year_of_Study                     0\n",
       "What_is_your_CGPA                              0\n",
       "Marital_status                                 0\n",
       "Do_you_have_Depression                         0\n",
       "Do_you_have_Anxiety                            0\n",
       "Do_you_have_Panic_attack                       0\n",
       "Did_you_seek_any_specialist_for_a_treatment    0\n",
       "dtype: int64"
      ]
     },
     "execution_count": 7,
     "metadata": {},
     "output_type": "execute_result"
    }
   ],
   "source": [
    "df.isnull().sum()"
   ]
  },
  {
   "cell_type": "code",
   "execution_count": 8,
   "id": "f2234d39",
   "metadata": {},
   "outputs": [
    {
     "data": {
      "text/html": [
       "<div>\n",
       "<style scoped>\n",
       "    .dataframe tbody tr th:only-of-type {\n",
       "        vertical-align: middle;\n",
       "    }\n",
       "\n",
       "    .dataframe tbody tr th {\n",
       "        vertical-align: top;\n",
       "    }\n",
       "\n",
       "    .dataframe thead th {\n",
       "        text-align: right;\n",
       "    }\n",
       "</style>\n",
       "<table border=\"1\" class=\"dataframe\">\n",
       "  <thead>\n",
       "    <tr style=\"text-align: right;\">\n",
       "      <th></th>\n",
       "      <th>Choose_your_gender</th>\n",
       "      <th>Age</th>\n",
       "      <th>Your_current_year_of_Study</th>\n",
       "      <th>What_is_your_CGPA</th>\n",
       "      <th>Marital_status</th>\n",
       "      <th>Do_you_have_Depression</th>\n",
       "      <th>Do_you_have_Anxiety</th>\n",
       "      <th>Do_you_have_Panic_attack</th>\n",
       "      <th>Did_you_seek_any_specialist_for_a_treatment</th>\n",
       "    </tr>\n",
       "  </thead>\n",
       "  <tbody>\n",
       "    <tr>\n",
       "      <th>count</th>\n",
       "      <td>101.000000</td>\n",
       "      <td>101.000000</td>\n",
       "      <td>101.000000</td>\n",
       "      <td>101.000000</td>\n",
       "      <td>101.000000</td>\n",
       "      <td>101.000000</td>\n",
       "      <td>101.000000</td>\n",
       "      <td>101.000000</td>\n",
       "      <td>101.000000</td>\n",
       "    </tr>\n",
       "    <tr>\n",
       "      <th>mean</th>\n",
       "      <td>0.742574</td>\n",
       "      <td>20.544554</td>\n",
       "      <td>1.970297</td>\n",
       "      <td>3.277228</td>\n",
       "      <td>0.158416</td>\n",
       "      <td>0.346535</td>\n",
       "      <td>0.336634</td>\n",
       "      <td>0.326733</td>\n",
       "      <td>0.059406</td>\n",
       "    </tr>\n",
       "    <tr>\n",
       "      <th>std</th>\n",
       "      <td>0.439397</td>\n",
       "      <td>2.488071</td>\n",
       "      <td>0.994540</td>\n",
       "      <td>0.939349</td>\n",
       "      <td>0.366952</td>\n",
       "      <td>0.478239</td>\n",
       "      <td>0.474915</td>\n",
       "      <td>0.471358</td>\n",
       "      <td>0.237562</td>\n",
       "    </tr>\n",
       "    <tr>\n",
       "      <th>min</th>\n",
       "      <td>0.000000</td>\n",
       "      <td>18.000000</td>\n",
       "      <td>1.000000</td>\n",
       "      <td>0.000000</td>\n",
       "      <td>0.000000</td>\n",
       "      <td>0.000000</td>\n",
       "      <td>0.000000</td>\n",
       "      <td>0.000000</td>\n",
       "      <td>0.000000</td>\n",
       "    </tr>\n",
       "    <tr>\n",
       "      <th>25%</th>\n",
       "      <td>0.000000</td>\n",
       "      <td>18.000000</td>\n",
       "      <td>1.000000</td>\n",
       "      <td>3.000000</td>\n",
       "      <td>0.000000</td>\n",
       "      <td>0.000000</td>\n",
       "      <td>0.000000</td>\n",
       "      <td>0.000000</td>\n",
       "      <td>0.000000</td>\n",
       "    </tr>\n",
       "    <tr>\n",
       "      <th>50%</th>\n",
       "      <td>1.000000</td>\n",
       "      <td>19.000000</td>\n",
       "      <td>2.000000</td>\n",
       "      <td>3.000000</td>\n",
       "      <td>0.000000</td>\n",
       "      <td>0.000000</td>\n",
       "      <td>0.000000</td>\n",
       "      <td>0.000000</td>\n",
       "      <td>0.000000</td>\n",
       "    </tr>\n",
       "    <tr>\n",
       "      <th>75%</th>\n",
       "      <td>1.000000</td>\n",
       "      <td>23.000000</td>\n",
       "      <td>3.000000</td>\n",
       "      <td>4.000000</td>\n",
       "      <td>0.000000</td>\n",
       "      <td>1.000000</td>\n",
       "      <td>1.000000</td>\n",
       "      <td>1.000000</td>\n",
       "      <td>0.000000</td>\n",
       "    </tr>\n",
       "    <tr>\n",
       "      <th>max</th>\n",
       "      <td>1.000000</td>\n",
       "      <td>24.000000</td>\n",
       "      <td>4.000000</td>\n",
       "      <td>4.000000</td>\n",
       "      <td>1.000000</td>\n",
       "      <td>1.000000</td>\n",
       "      <td>1.000000</td>\n",
       "      <td>1.000000</td>\n",
       "      <td>1.000000</td>\n",
       "    </tr>\n",
       "  </tbody>\n",
       "</table>\n",
       "</div>"
      ],
      "text/plain": [
       "       Choose_your_gender         Age  Your_current_year_of_Study  \\\n",
       "count          101.000000  101.000000                  101.000000   \n",
       "mean             0.742574   20.544554                    1.970297   \n",
       "std              0.439397    2.488071                    0.994540   \n",
       "min              0.000000   18.000000                    1.000000   \n",
       "25%              0.000000   18.000000                    1.000000   \n",
       "50%              1.000000   19.000000                    2.000000   \n",
       "75%              1.000000   23.000000                    3.000000   \n",
       "max              1.000000   24.000000                    4.000000   \n",
       "\n",
       "       What_is_your_CGPA  Marital_status  Do_you_have_Depression  \\\n",
       "count         101.000000      101.000000              101.000000   \n",
       "mean            3.277228        0.158416                0.346535   \n",
       "std             0.939349        0.366952                0.478239   \n",
       "min             0.000000        0.000000                0.000000   \n",
       "25%             3.000000        0.000000                0.000000   \n",
       "50%             3.000000        0.000000                0.000000   \n",
       "75%             4.000000        0.000000                1.000000   \n",
       "max             4.000000        1.000000                1.000000   \n",
       "\n",
       "       Do_you_have_Anxiety  Do_you_have_Panic_attack  \\\n",
       "count           101.000000                101.000000   \n",
       "mean              0.336634                  0.326733   \n",
       "std               0.474915                  0.471358   \n",
       "min               0.000000                  0.000000   \n",
       "25%               0.000000                  0.000000   \n",
       "50%               0.000000                  0.000000   \n",
       "75%               1.000000                  1.000000   \n",
       "max               1.000000                  1.000000   \n",
       "\n",
       "       Did_you_seek_any_specialist_for_a_treatment  \n",
       "count                                   101.000000  \n",
       "mean                                      0.059406  \n",
       "std                                       0.237562  \n",
       "min                                       0.000000  \n",
       "25%                                       0.000000  \n",
       "50%                                       0.000000  \n",
       "75%                                       0.000000  \n",
       "max                                       1.000000  "
      ]
     },
     "execution_count": 8,
     "metadata": {},
     "output_type": "execute_result"
    }
   ],
   "source": [
    "df.describe()"
   ]
  },
  {
   "cell_type": "code",
   "execution_count": 9,
   "id": "1574d4d0",
   "metadata": {},
   "outputs": [
    {
     "data": {
      "text/plain": [
       "array(['8/7/2020 12:02', '8/7/2020 12:04', '8/7/2020 12:05',\n",
       "       '8/7/2020 12:06', '8/7/2020 12:13', '8/7/2020 12:31',\n",
       "       '8/7/2020 12:32', '8/7/2020 12:33', '8/7/2020 12:35',\n",
       "       '8/7/2020 12:39', '8/7/2020 12:40', '8/7/2020 12:41',\n",
       "       '8/7/2020 12:43', '8/7/2020 12:46', '8/7/2020 12:52',\n",
       "       '8/7/2020 13:05', '8/7/2020 13:07', '8/7/2020 13:12',\n",
       "       '8/7/2020 13:13', '8/7/2020 13:15', '8/7/2020 13:17',\n",
       "       '8/7/2020 13:29', '8/7/2020 13:35', '8/7/2020 13:41',\n",
       "       '8/7/2020 13:58', '8/7/2020 14:05', '8/7/2020 14:27',\n",
       "       '8/7/2020 14:29', '8/7/2020 14:31', '8/7/2020 14:41',\n",
       "       '8/7/2020 14:43', '8/7/2020 14:45', '8/7/2020 14:47',\n",
       "       '8/7/2020 14:56', '8/7/2020 14:57', '8/7/2020 14:58',\n",
       "       '8/7/2020 15:07', '8/7/2020 15:08', '8/7/2020 15:09',\n",
       "       '8/7/2020 15:12', '8/7/2020 15:14', '8/7/2020 15:18',\n",
       "       '8/7/2020 15:27', '8/7/2020 15:37', '8/7/2020 15:47',\n",
       "       '8/7/2020 15:48', '8/7/2020 15:57', '8/7/2020 15:58',\n",
       "       '8/7/2020 16:08', '8/7/2020 16:21', '8/7/2020 16:22',\n",
       "       '8/7/2020 16:34', '8/7/2020 16:53', '8/7/2020 17:05',\n",
       "       '8/7/2020 17:37', '8/7/2020 17:46', '8/7/2020 17:50',\n",
       "       '8/7/2020 18:10', '8/7/2020 18:11', '8/7/2020 19:05',\n",
       "       '8/7/2020 19:32', '8/7/2020 20:36', '8/7/2020 21:21',\n",
       "       '8/7/2020 22:35', '9/7/2020 6:57', '9/7/2020 11:43',\n",
       "       '9/7/2020 11:57', '9/7/2020 13:15', '9/7/2020 18:24',\n",
       "       '13/07/2020 10:07:32', '13/07/2020 10:10:30',\n",
       "       '13/07/2020 10:11:26', '13/07/2020 10:12:18',\n",
       "       '13/07/2020 10:12:26', '13/07/2020 10:12:28',\n",
       "       '13/07/2020 10:14:46', '13/07/2020 10:33:47',\n",
       "       '13/07/2020 10:34:08', '13/07/2020 11:46:13',\n",
       "       '13/07/2020 11:49:02', '13/07/2020 11:54:58',\n",
       "       '13/07/2020 13:57:11', '13/07/2020 14:38:12',\n",
       "       '13/07/2020 14:48:05', '13/07/2020 16:15:13',\n",
       "       '13/07/2020 17:30:44', '13/07/2020 19:08:32',\n",
       "       '13/07/2020 19:56:49', '13/07/2020 21:21:42',\n",
       "       '13/07/2020 21:22:56', '13/07/2020 21:23:57',\n",
       "       '18/07/2020 20:16:21'], dtype=object)"
      ]
     },
     "execution_count": 9,
     "metadata": {},
     "output_type": "execute_result"
    }
   ],
   "source": [
    "df['Timestamp'].unique()\n",
    "# view the labels in the variable"
   ]
  },
  {
   "cell_type": "code",
   "execution_count": 10,
   "id": "10bcb80e",
   "metadata": {},
   "outputs": [
    {
     "data": {
      "text/plain": [
       "92"
      ]
     },
     "execution_count": 10,
     "metadata": {},
     "output_type": "execute_result"
    }
   ],
   "source": [
    "len(df['Timestamp'].unique())\n",
    "# how many different types of variables"
   ]
  },
  {
   "cell_type": "code",
   "execution_count": 11,
   "id": "4f44e4ca",
   "metadata": {},
   "outputs": [],
   "source": [
    "# df['status_published'].unique()"
   ]
  },
  {
   "cell_type": "code",
   "execution_count": 12,
   "id": "9dcc87a7",
   "metadata": {},
   "outputs": [],
   "source": [
    "# len(df['status_published'].unique())"
   ]
  },
  {
   "cell_type": "code",
   "execution_count": 13,
   "id": "a88547f0",
   "metadata": {},
   "outputs": [],
   "source": [
    "# df['status_type'].unique()"
   ]
  },
  {
   "cell_type": "code",
   "execution_count": 14,
   "id": "cdae0da1",
   "metadata": {},
   "outputs": [],
   "source": [
    "# len(df['status_type'].unique())"
   ]
  },
  {
   "cell_type": "code",
   "execution_count": 15,
   "id": "5fa09038",
   "metadata": {},
   "outputs": [],
   "source": [
    "df.drop(['Timestamp'], axis=1, inplace=True)\n",
    "# drops timestamp from df for graph"
   ]
  },
  {
   "cell_type": "code",
   "execution_count": 16,
   "id": "fa8741ae",
   "metadata": {},
   "outputs": [
    {
     "name": "stdout",
     "output_type": "stream",
     "text": [
      "<class 'pandas.core.frame.DataFrame'>\n",
      "RangeIndex: 101 entries, 0 to 100\n",
      "Data columns (total 10 columns):\n",
      " #   Column                                       Non-Null Count  Dtype \n",
      "---  ------                                       --------------  ----- \n",
      " 0   Choose_your_gender                           101 non-null    int64 \n",
      " 1   Age                                          101 non-null    int64 \n",
      " 2   What_is_your_course                          101 non-null    object\n",
      " 3   Your_current_year_of_Study                   101 non-null    int64 \n",
      " 4   What_is_your_CGPA                            101 non-null    int64 \n",
      " 5   Marital_status                               101 non-null    int64 \n",
      " 6   Do_you_have_Depression                       101 non-null    int64 \n",
      " 7   Do_you_have_Anxiety                          101 non-null    int64 \n",
      " 8   Do_you_have_Panic_attack                     101 non-null    int64 \n",
      " 9   Did_you_seek_any_specialist_for_a_treatment  101 non-null    int64 \n",
      "dtypes: int64(9), object(1)\n",
      "memory usage: 8.0+ KB\n"
     ]
    }
   ],
   "source": [
    "df.info()"
   ]
  },
  {
   "cell_type": "code",
   "execution_count": 17,
   "id": "be28605c",
   "metadata": {},
   "outputs": [
    {
     "data": {
      "text/html": [
       "<div>\n",
       "<style scoped>\n",
       "    .dataframe tbody tr th:only-of-type {\n",
       "        vertical-align: middle;\n",
       "    }\n",
       "\n",
       "    .dataframe tbody tr th {\n",
       "        vertical-align: top;\n",
       "    }\n",
       "\n",
       "    .dataframe thead th {\n",
       "        text-align: right;\n",
       "    }\n",
       "</style>\n",
       "<table border=\"1\" class=\"dataframe\">\n",
       "  <thead>\n",
       "    <tr style=\"text-align: right;\">\n",
       "      <th></th>\n",
       "      <th>Choose_your_gender</th>\n",
       "      <th>Age</th>\n",
       "      <th>What_is_your_course</th>\n",
       "      <th>Your_current_year_of_Study</th>\n",
       "      <th>What_is_your_CGPA</th>\n",
       "      <th>Marital_status</th>\n",
       "      <th>Do_you_have_Depression</th>\n",
       "      <th>Do_you_have_Anxiety</th>\n",
       "      <th>Do_you_have_Panic_attack</th>\n",
       "      <th>Did_you_seek_any_specialist_for_a_treatment</th>\n",
       "    </tr>\n",
       "  </thead>\n",
       "  <tbody>\n",
       "    <tr>\n",
       "      <th>0</th>\n",
       "      <td>1</td>\n",
       "      <td>18</td>\n",
       "      <td>Engineering</td>\n",
       "      <td>1</td>\n",
       "      <td>3</td>\n",
       "      <td>0</td>\n",
       "      <td>1</td>\n",
       "      <td>0</td>\n",
       "      <td>1</td>\n",
       "      <td>0</td>\n",
       "    </tr>\n",
       "    <tr>\n",
       "      <th>1</th>\n",
       "      <td>0</td>\n",
       "      <td>21</td>\n",
       "      <td>Islamic education</td>\n",
       "      <td>2</td>\n",
       "      <td>3</td>\n",
       "      <td>0</td>\n",
       "      <td>0</td>\n",
       "      <td>1</td>\n",
       "      <td>0</td>\n",
       "      <td>0</td>\n",
       "    </tr>\n",
       "    <tr>\n",
       "      <th>2</th>\n",
       "      <td>0</td>\n",
       "      <td>19</td>\n",
       "      <td>BIT</td>\n",
       "      <td>1</td>\n",
       "      <td>3</td>\n",
       "      <td>0</td>\n",
       "      <td>1</td>\n",
       "      <td>1</td>\n",
       "      <td>1</td>\n",
       "      <td>0</td>\n",
       "    </tr>\n",
       "    <tr>\n",
       "      <th>3</th>\n",
       "      <td>1</td>\n",
       "      <td>22</td>\n",
       "      <td>Laws</td>\n",
       "      <td>3</td>\n",
       "      <td>3</td>\n",
       "      <td>1</td>\n",
       "      <td>1</td>\n",
       "      <td>0</td>\n",
       "      <td>0</td>\n",
       "      <td>0</td>\n",
       "    </tr>\n",
       "    <tr>\n",
       "      <th>4</th>\n",
       "      <td>0</td>\n",
       "      <td>23</td>\n",
       "      <td>Mathemathics</td>\n",
       "      <td>4</td>\n",
       "      <td>3</td>\n",
       "      <td>0</td>\n",
       "      <td>0</td>\n",
       "      <td>0</td>\n",
       "      <td>0</td>\n",
       "      <td>0</td>\n",
       "    </tr>\n",
       "  </tbody>\n",
       "</table>\n",
       "</div>"
      ],
      "text/plain": [
       "   Choose_your_gender  Age What_is_your_course  Your_current_year_of_Study  \\\n",
       "0                   1   18         Engineering                           1   \n",
       "1                   0   21   Islamic education                           2   \n",
       "2                   0   19                 BIT                           1   \n",
       "3                   1   22                Laws                           3   \n",
       "4                   0   23        Mathemathics                           4   \n",
       "\n",
       "   What_is_your_CGPA  Marital_status  Do_you_have_Depression  \\\n",
       "0                  3               0                       1   \n",
       "1                  3               0                       0   \n",
       "2                  3               0                       1   \n",
       "3                  3               1                       1   \n",
       "4                  3               0                       0   \n",
       "\n",
       "   Do_you_have_Anxiety  Do_you_have_Panic_attack  \\\n",
       "0                    0                         1   \n",
       "1                    1                         0   \n",
       "2                    1                         1   \n",
       "3                    0                         0   \n",
       "4                    0                         0   \n",
       "\n",
       "   Did_you_seek_any_specialist_for_a_treatment  \n",
       "0                                            0  \n",
       "1                                            0  \n",
       "2                                            0  \n",
       "3                                            0  \n",
       "4                                            0  "
      ]
     },
     "execution_count": 17,
     "metadata": {},
     "output_type": "execute_result"
    }
   ],
   "source": [
    "df.head()"
   ]
  },
  {
   "cell_type": "code",
   "execution_count": 18,
   "id": "9b788ff4",
   "metadata": {},
   "outputs": [],
   "source": [
    "X = df\n",
    "\n",
    "y = df['Do_you_have_Anxiety']"
   ]
  },
  {
   "cell_type": "code",
   "execution_count": 19,
   "id": "9ac6c3fe",
   "metadata": {},
   "outputs": [],
   "source": [
    "from sklearn.preprocessing import LabelEncoder\n",
    "\n",
    "le = LabelEncoder()\n",
    "\n",
    "X['What_is_your_course'] = le.fit_transform(X['What_is_your_course'])\n",
    "# encode courses to integer \n",
    "\n",
    "# y = le.transform(y)"
   ]
  },
  {
   "cell_type": "code",
   "execution_count": 20,
   "id": "6094bcd5",
   "metadata": {},
   "outputs": [
    {
     "name": "stdout",
     "output_type": "stream",
     "text": [
      "<class 'pandas.core.frame.DataFrame'>\n",
      "RangeIndex: 101 entries, 0 to 100\n",
      "Data columns (total 10 columns):\n",
      " #   Column                                       Non-Null Count  Dtype\n",
      "---  ------                                       --------------  -----\n",
      " 0   Choose_your_gender                           101 non-null    int64\n",
      " 1   Age                                          101 non-null    int64\n",
      " 2   What_is_your_course                          101 non-null    int64\n",
      " 3   Your_current_year_of_Study                   101 non-null    int64\n",
      " 4   What_is_your_CGPA                            101 non-null    int64\n",
      " 5   Marital_status                               101 non-null    int64\n",
      " 6   Do_you_have_Depression                       101 non-null    int64\n",
      " 7   Do_you_have_Anxiety                          101 non-null    int64\n",
      " 8   Do_you_have_Panic_attack                     101 non-null    int64\n",
      " 9   Did_you_seek_any_specialist_for_a_treatment  101 non-null    int64\n",
      "dtypes: int64(10)\n",
      "memory usage: 8.0 KB\n"
     ]
    }
   ],
   "source": [
    "X.info()"
   ]
  },
  {
   "cell_type": "code",
   "execution_count": 21,
   "id": "f83fe50c",
   "metadata": {},
   "outputs": [
    {
     "data": {
      "text/html": [
       "<div>\n",
       "<style scoped>\n",
       "    .dataframe tbody tr th:only-of-type {\n",
       "        vertical-align: middle;\n",
       "    }\n",
       "\n",
       "    .dataframe tbody tr th {\n",
       "        vertical-align: top;\n",
       "    }\n",
       "\n",
       "    .dataframe thead th {\n",
       "        text-align: right;\n",
       "    }\n",
       "</style>\n",
       "<table border=\"1\" class=\"dataframe\">\n",
       "  <thead>\n",
       "    <tr style=\"text-align: right;\">\n",
       "      <th></th>\n",
       "      <th>Choose_your_gender</th>\n",
       "      <th>Age</th>\n",
       "      <th>What_is_your_course</th>\n",
       "      <th>Your_current_year_of_Study</th>\n",
       "      <th>What_is_your_CGPA</th>\n",
       "      <th>Marital_status</th>\n",
       "      <th>Do_you_have_Depression</th>\n",
       "      <th>Do_you_have_Anxiety</th>\n",
       "      <th>Do_you_have_Panic_attack</th>\n",
       "      <th>Did_you_seek_any_specialist_for_a_treatment</th>\n",
       "    </tr>\n",
       "  </thead>\n",
       "  <tbody>\n",
       "    <tr>\n",
       "      <th>0</th>\n",
       "      <td>1</td>\n",
       "      <td>18</td>\n",
       "      <td>17</td>\n",
       "      <td>1</td>\n",
       "      <td>3</td>\n",
       "      <td>0</td>\n",
       "      <td>1</td>\n",
       "      <td>0</td>\n",
       "      <td>1</td>\n",
       "      <td>0</td>\n",
       "    </tr>\n",
       "    <tr>\n",
       "      <th>1</th>\n",
       "      <td>0</td>\n",
       "      <td>21</td>\n",
       "      <td>25</td>\n",
       "      <td>2</td>\n",
       "      <td>3</td>\n",
       "      <td>0</td>\n",
       "      <td>0</td>\n",
       "      <td>1</td>\n",
       "      <td>0</td>\n",
       "      <td>0</td>\n",
       "    </tr>\n",
       "    <tr>\n",
       "      <th>2</th>\n",
       "      <td>0</td>\n",
       "      <td>19</td>\n",
       "      <td>4</td>\n",
       "      <td>1</td>\n",
       "      <td>3</td>\n",
       "      <td>0</td>\n",
       "      <td>1</td>\n",
       "      <td>1</td>\n",
       "      <td>1</td>\n",
       "      <td>0</td>\n",
       "    </tr>\n",
       "    <tr>\n",
       "      <th>3</th>\n",
       "      <td>1</td>\n",
       "      <td>22</td>\n",
       "      <td>33</td>\n",
       "      <td>3</td>\n",
       "      <td>3</td>\n",
       "      <td>1</td>\n",
       "      <td>1</td>\n",
       "      <td>0</td>\n",
       "      <td>0</td>\n",
       "      <td>0</td>\n",
       "    </tr>\n",
       "    <tr>\n",
       "      <th>4</th>\n",
       "      <td>0</td>\n",
       "      <td>23</td>\n",
       "      <td>37</td>\n",
       "      <td>4</td>\n",
       "      <td>3</td>\n",
       "      <td>0</td>\n",
       "      <td>0</td>\n",
       "      <td>0</td>\n",
       "      <td>0</td>\n",
       "      <td>0</td>\n",
       "    </tr>\n",
       "  </tbody>\n",
       "</table>\n",
       "</div>"
      ],
      "text/plain": [
       "   Choose_your_gender  Age  What_is_your_course  Your_current_year_of_Study  \\\n",
       "0                   1   18                   17                           1   \n",
       "1                   0   21                   25                           2   \n",
       "2                   0   19                    4                           1   \n",
       "3                   1   22                   33                           3   \n",
       "4                   0   23                   37                           4   \n",
       "\n",
       "   What_is_your_CGPA  Marital_status  Do_you_have_Depression  \\\n",
       "0                  3               0                       1   \n",
       "1                  3               0                       0   \n",
       "2                  3               0                       1   \n",
       "3                  3               1                       1   \n",
       "4                  3               0                       0   \n",
       "\n",
       "   Do_you_have_Anxiety  Do_you_have_Panic_attack  \\\n",
       "0                    0                         1   \n",
       "1                    1                         0   \n",
       "2                    1                         1   \n",
       "3                    0                         0   \n",
       "4                    0                         0   \n",
       "\n",
       "   Did_you_seek_any_specialist_for_a_treatment  \n",
       "0                                            0  \n",
       "1                                            0  \n",
       "2                                            0  \n",
       "3                                            0  \n",
       "4                                            0  "
      ]
     },
     "execution_count": 21,
     "metadata": {},
     "output_type": "execute_result"
    }
   ],
   "source": [
    "X.head()"
   ]
  },
  {
   "cell_type": "code",
   "execution_count": 22,
   "id": "41f4cf87",
   "metadata": {},
   "outputs": [],
   "source": [
    "cols = X.columns"
   ]
  },
  {
   "cell_type": "code",
   "execution_count": 23,
   "id": "6f6eb9e6",
   "metadata": {},
   "outputs": [],
   "source": [
    "from sklearn.preprocessing import MinMaxScaler\n",
    "\n",
    "ms = MinMaxScaler()\n",
    "\n",
    "X = ms.fit_transform(X)"
   ]
  },
  {
   "cell_type": "code",
   "execution_count": 24,
   "id": "035f3019",
   "metadata": {},
   "outputs": [],
   "source": [
    "X = pd.DataFrame(X, columns=[cols])"
   ]
  },
  {
   "cell_type": "code",
   "execution_count": 25,
   "id": "caf8c188",
   "metadata": {},
   "outputs": [
    {
     "data": {
      "text/html": [
       "<div>\n",
       "<style scoped>\n",
       "    .dataframe tbody tr th:only-of-type {\n",
       "        vertical-align: middle;\n",
       "    }\n",
       "\n",
       "    .dataframe tbody tr th {\n",
       "        vertical-align: top;\n",
       "    }\n",
       "\n",
       "    .dataframe thead tr th {\n",
       "        text-align: left;\n",
       "    }\n",
       "</style>\n",
       "<table border=\"1\" class=\"dataframe\">\n",
       "  <thead>\n",
       "    <tr>\n",
       "      <th></th>\n",
       "      <th>Choose_your_gender</th>\n",
       "      <th>Age</th>\n",
       "      <th>What_is_your_course</th>\n",
       "      <th>Your_current_year_of_Study</th>\n",
       "      <th>What_is_your_CGPA</th>\n",
       "      <th>Marital_status</th>\n",
       "      <th>Do_you_have_Depression</th>\n",
       "      <th>Do_you_have_Anxiety</th>\n",
       "      <th>Do_you_have_Panic_attack</th>\n",
       "      <th>Did_you_seek_any_specialist_for_a_treatment</th>\n",
       "    </tr>\n",
       "  </thead>\n",
       "  <tbody>\n",
       "    <tr>\n",
       "      <th>0</th>\n",
       "      <td>1.0</td>\n",
       "      <td>0.000000</td>\n",
       "      <td>0.354167</td>\n",
       "      <td>0.000000</td>\n",
       "      <td>0.75</td>\n",
       "      <td>0.0</td>\n",
       "      <td>1.0</td>\n",
       "      <td>0.0</td>\n",
       "      <td>1.0</td>\n",
       "      <td>0.0</td>\n",
       "    </tr>\n",
       "    <tr>\n",
       "      <th>1</th>\n",
       "      <td>0.0</td>\n",
       "      <td>0.500000</td>\n",
       "      <td>0.520833</td>\n",
       "      <td>0.333333</td>\n",
       "      <td>0.75</td>\n",
       "      <td>0.0</td>\n",
       "      <td>0.0</td>\n",
       "      <td>1.0</td>\n",
       "      <td>0.0</td>\n",
       "      <td>0.0</td>\n",
       "    </tr>\n",
       "    <tr>\n",
       "      <th>2</th>\n",
       "      <td>0.0</td>\n",
       "      <td>0.166667</td>\n",
       "      <td>0.083333</td>\n",
       "      <td>0.000000</td>\n",
       "      <td>0.75</td>\n",
       "      <td>0.0</td>\n",
       "      <td>1.0</td>\n",
       "      <td>1.0</td>\n",
       "      <td>1.0</td>\n",
       "      <td>0.0</td>\n",
       "    </tr>\n",
       "    <tr>\n",
       "      <th>3</th>\n",
       "      <td>1.0</td>\n",
       "      <td>0.666667</td>\n",
       "      <td>0.687500</td>\n",
       "      <td>0.666667</td>\n",
       "      <td>0.75</td>\n",
       "      <td>1.0</td>\n",
       "      <td>1.0</td>\n",
       "      <td>0.0</td>\n",
       "      <td>0.0</td>\n",
       "      <td>0.0</td>\n",
       "    </tr>\n",
       "    <tr>\n",
       "      <th>4</th>\n",
       "      <td>0.0</td>\n",
       "      <td>0.833333</td>\n",
       "      <td>0.770833</td>\n",
       "      <td>1.000000</td>\n",
       "      <td>0.75</td>\n",
       "      <td>0.0</td>\n",
       "      <td>0.0</td>\n",
       "      <td>0.0</td>\n",
       "      <td>0.0</td>\n",
       "      <td>0.0</td>\n",
       "    </tr>\n",
       "  </tbody>\n",
       "</table>\n",
       "</div>"
      ],
      "text/plain": [
       "  Choose_your_gender       Age What_is_your_course Your_current_year_of_Study  \\\n",
       "0                1.0  0.000000            0.354167                   0.000000   \n",
       "1                0.0  0.500000            0.520833                   0.333333   \n",
       "2                0.0  0.166667            0.083333                   0.000000   \n",
       "3                1.0  0.666667            0.687500                   0.666667   \n",
       "4                0.0  0.833333            0.770833                   1.000000   \n",
       "\n",
       "  What_is_your_CGPA Marital_status Do_you_have_Depression Do_you_have_Anxiety  \\\n",
       "0              0.75            0.0                    1.0                 0.0   \n",
       "1              0.75            0.0                    0.0                 1.0   \n",
       "2              0.75            0.0                    1.0                 1.0   \n",
       "3              0.75            1.0                    1.0                 0.0   \n",
       "4              0.75            0.0                    0.0                 0.0   \n",
       "\n",
       "  Do_you_have_Panic_attack Did_you_seek_any_specialist_for_a_treatment  \n",
       "0                      1.0                                         0.0  \n",
       "1                      0.0                                         0.0  \n",
       "2                      1.0                                         0.0  \n",
       "3                      0.0                                         0.0  \n",
       "4                      0.0                                         0.0  "
      ]
     },
     "execution_count": 25,
     "metadata": {},
     "output_type": "execute_result"
    }
   ],
   "source": [
    "X.head()"
   ]
  },
  {
   "cell_type": "code",
   "execution_count": 26,
   "id": "5fcee364",
   "metadata": {},
   "outputs": [
    {
     "name": "stdout",
     "output_type": "stream",
     "text": [
      "<class 'pandas.core.frame.DataFrame'>\n",
      "RangeIndex: 101 entries, 0 to 100\n",
      "Data columns (total 10 columns):\n",
      " #   Column                                          Non-Null Count  Dtype  \n",
      "---  ------                                          --------------  -----  \n",
      " 0   (Choose_your_gender,)                           101 non-null    float64\n",
      " 1   (Age,)                                          101 non-null    float64\n",
      " 2   (What_is_your_course,)                          101 non-null    float64\n",
      " 3   (Your_current_year_of_Study,)                   101 non-null    float64\n",
      " 4   (What_is_your_CGPA,)                            101 non-null    float64\n",
      " 5   (Marital_status,)                               101 non-null    float64\n",
      " 6   (Do_you_have_Depression,)                       101 non-null    float64\n",
      " 7   (Do_you_have_Anxiety,)                          101 non-null    float64\n",
      " 8   (Do_you_have_Panic_attack,)                     101 non-null    float64\n",
      " 9   (Did_you_seek_any_specialist_for_a_treatment,)  101 non-null    float64\n",
      "dtypes: float64(10)\n",
      "memory usage: 8.0 KB\n"
     ]
    },
    {
     "data": {
      "text/html": [
       "<style>#sk-container-id-1 {color: black;background-color: white;}#sk-container-id-1 pre{padding: 0;}#sk-container-id-1 div.sk-toggleable {background-color: white;}#sk-container-id-1 label.sk-toggleable__label {cursor: pointer;display: block;width: 100%;margin-bottom: 0;padding: 0.3em;box-sizing: border-box;text-align: center;}#sk-container-id-1 label.sk-toggleable__label-arrow:before {content: \"▸\";float: left;margin-right: 0.25em;color: #696969;}#sk-container-id-1 label.sk-toggleable__label-arrow:hover:before {color: black;}#sk-container-id-1 div.sk-estimator:hover label.sk-toggleable__label-arrow:before {color: black;}#sk-container-id-1 div.sk-toggleable__content {max-height: 0;max-width: 0;overflow: hidden;text-align: left;background-color: #f0f8ff;}#sk-container-id-1 div.sk-toggleable__content pre {margin: 0.2em;color: black;border-radius: 0.25em;background-color: #f0f8ff;}#sk-container-id-1 input.sk-toggleable__control:checked~div.sk-toggleable__content {max-height: 200px;max-width: 100%;overflow: auto;}#sk-container-id-1 input.sk-toggleable__control:checked~label.sk-toggleable__label-arrow:before {content: \"▾\";}#sk-container-id-1 div.sk-estimator input.sk-toggleable__control:checked~label.sk-toggleable__label {background-color: #d4ebff;}#sk-container-id-1 div.sk-label input.sk-toggleable__control:checked~label.sk-toggleable__label {background-color: #d4ebff;}#sk-container-id-1 input.sk-hidden--visually {border: 0;clip: rect(1px 1px 1px 1px);clip: rect(1px, 1px, 1px, 1px);height: 1px;margin: -1px;overflow: hidden;padding: 0;position: absolute;width: 1px;}#sk-container-id-1 div.sk-estimator {font-family: monospace;background-color: #f0f8ff;border: 1px dotted black;border-radius: 0.25em;box-sizing: border-box;margin-bottom: 0.5em;}#sk-container-id-1 div.sk-estimator:hover {background-color: #d4ebff;}#sk-container-id-1 div.sk-parallel-item::after {content: \"\";width: 100%;border-bottom: 1px solid gray;flex-grow: 1;}#sk-container-id-1 div.sk-label:hover label.sk-toggleable__label {background-color: #d4ebff;}#sk-container-id-1 div.sk-serial::before {content: \"\";position: absolute;border-left: 1px solid gray;box-sizing: border-box;top: 0;bottom: 0;left: 50%;z-index: 0;}#sk-container-id-1 div.sk-serial {display: flex;flex-direction: column;align-items: center;background-color: white;padding-right: 0.2em;padding-left: 0.2em;position: relative;}#sk-container-id-1 div.sk-item {position: relative;z-index: 1;}#sk-container-id-1 div.sk-parallel {display: flex;align-items: stretch;justify-content: center;background-color: white;position: relative;}#sk-container-id-1 div.sk-item::before, #sk-container-id-1 div.sk-parallel-item::before {content: \"\";position: absolute;border-left: 1px solid gray;box-sizing: border-box;top: 0;bottom: 0;left: 50%;z-index: -1;}#sk-container-id-1 div.sk-parallel-item {display: flex;flex-direction: column;z-index: 1;position: relative;background-color: white;}#sk-container-id-1 div.sk-parallel-item:first-child::after {align-self: flex-end;width: 50%;}#sk-container-id-1 div.sk-parallel-item:last-child::after {align-self: flex-start;width: 50%;}#sk-container-id-1 div.sk-parallel-item:only-child::after {width: 0;}#sk-container-id-1 div.sk-dashed-wrapped {border: 1px dashed gray;margin: 0 0.4em 0.5em 0.4em;box-sizing: border-box;padding-bottom: 0.4em;background-color: white;}#sk-container-id-1 div.sk-label label {font-family: monospace;font-weight: bold;display: inline-block;line-height: 1.2em;}#sk-container-id-1 div.sk-label-container {text-align: center;}#sk-container-id-1 div.sk-container {/* jupyter's `normalize.less` sets `[hidden] { display: none; }` but bootstrap.min.css set `[hidden] { display: none !important; }` so we also need the `!important` here to be able to override the default hidden behavior on the sphinx rendered scikit-learn.org. See: https://github.com/scikit-learn/scikit-learn/issues/21755 */display: inline-block !important;position: relative;}#sk-container-id-1 div.sk-text-repr-fallback {display: none;}</style><div id=\"sk-container-id-1\" class=\"sk-top-container\"><div class=\"sk-text-repr-fallback\"><pre>KMeans(n_clusters=2, random_state=0)</pre><b>In a Jupyter environment, please rerun this cell to show the HTML representation or trust the notebook. <br />On GitHub, the HTML representation is unable to render, please try loading this page with nbviewer.org.</b></div><div class=\"sk-container\" hidden><div class=\"sk-item\"><div class=\"sk-estimator sk-toggleable\"><input class=\"sk-toggleable__control sk-hidden--visually\" id=\"sk-estimator-id-1\" type=\"checkbox\" checked><label for=\"sk-estimator-id-1\" class=\"sk-toggleable__label sk-toggleable__label-arrow\">KMeans</label><div class=\"sk-toggleable__content\"><pre>KMeans(n_clusters=2, random_state=0)</pre></div></div></div></div></div>"
      ],
      "text/plain": [
       "KMeans(n_clusters=2, random_state=0)"
      ]
     },
     "execution_count": 26,
     "metadata": {},
     "output_type": "execute_result"
    }
   ],
   "source": [
    "from sklearn.cluster import KMeans\n",
    "\n",
    "kmeans = KMeans(n_clusters=2, random_state=0) \n",
    "\n",
    "X.info()\n",
    "\n",
    "kmeans.fit(X)"
   ]
  },
  {
   "cell_type": "code",
   "execution_count": 27,
   "id": "e490dce6",
   "metadata": {},
   "outputs": [
    {
     "data": {
      "text/plain": [
       "array([[ 8.52941176e-01,  3.62745098e-01,  4.03186275e-01,\n",
       "         3.13725490e-01,  8.23529412e-01,  4.70588235e-01,\n",
       "         1.00000000e+00,  5.29411765e-01,  5.00000000e-01,\n",
       "         1.76470588e-01],\n",
       "       [ 6.86567164e-01,  4.55223881e-01,  3.31156716e-01,\n",
       "         3.28358209e-01,  8.17164179e-01, -8.32667268e-17,\n",
       "         1.49253731e-02,  2.38805970e-01,  2.38805970e-01,\n",
       "        -4.85722573e-17]])"
      ]
     },
     "execution_count": 27,
     "metadata": {},
     "output_type": "execute_result"
    }
   ],
   "source": [
    "kmeans.cluster_centers_"
   ]
  },
  {
   "cell_type": "code",
   "execution_count": 28,
   "id": "6052f54d",
   "metadata": {},
   "outputs": [
    {
     "data": {
      "text/plain": [
       "116.31057488293824"
      ]
     },
     "execution_count": 28,
     "metadata": {},
     "output_type": "execute_result"
    }
   ],
   "source": [
    "kmeans.inertia_"
   ]
  },
  {
   "cell_type": "code",
   "execution_count": 29,
   "id": "f02fd865",
   "metadata": {},
   "outputs": [
    {
     "name": "stdout",
     "output_type": "stream",
     "text": [
      "Result: 32 out of 101 samples were correctly labeled.\n"
     ]
    }
   ],
   "source": [
    "labels = kmeans.labels_\n",
    "\n",
    "# check how many of the samples were correctly labeled\n",
    "correct_labels = sum(y == labels)\n",
    "\n",
    "print(\"Result: %d out of %d samples were correctly labeled.\" % (correct_labels, y.size))"
   ]
  },
  {
   "cell_type": "code",
   "execution_count": 30,
   "id": "48b8bffa",
   "metadata": {},
   "outputs": [
    {
     "name": "stdout",
     "output_type": "stream",
     "text": [
      "Accuracy score: 0.32\n"
     ]
    }
   ],
   "source": [
    "print('Accuracy score: {0:0.2f}'. format(correct_labels/float(y.size)))"
   ]
  },
  {
   "cell_type": "code",
   "execution_count": 31,
   "id": "f7ab0f36",
   "metadata": {},
   "outputs": [
    {
     "data": {
      "image/png": "[encoded data removed]",
      "text/plain": [
       "<Figure size 432x288 with 1 Axes>"
      ]
     },
     "metadata": {
      "needs_background": "light"
     },
     "output_type": "display_data"
    }
   ],
   "source": [
    "from sklearn.cluster import KMeans\n",
    "cs = []\n",
    "for i in range(1, 11):\n",
    "    kmeans = KMeans(n_clusters = i, init = 'k-means++', max_iter = 300, n_init = 10, random_state = 0)\n",
    "    kmeans.fit(X)\n",
    "    cs.append(kmeans.inertia_)\n",
    "plt.plot(range(1, 11), cs)\n",
    "plt.title('The Elbow Method')\n",
    "plt.xlabel('Number of clusters')\n",
    "plt.ylabel('CS')\n",
    "plt.show()"
   ]
  },
  {
   "cell_type": "code",
   "execution_count": 32,
   "id": "32f45f11",
   "metadata": {},
   "outputs": [
    {
     "name": "stdout",
     "output_type": "stream",
     "text": [
      "Result: 32 out of 101 samples were correctly labeled.\n",
      "Accuracy score: 0.32\n"
     ]
    }
   ],
   "source": [
    "from sklearn.cluster import KMeans\n",
    "\n",
    "kmeans = KMeans(n_clusters=2,random_state=0)\n",
    "\n",
    "kmeans.fit(X)\n",
    "\n",
    "labels = kmeans.labels_\n",
    "\n",
    "# check how many of the samples were correctly labeled\n",
    "\n",
    "correct_labels = sum(y == labels)\n",
    "\n",
    "print(\"Result: %d out of %d samples were correctly labeled.\" % (correct_labels, y.size))\n",
    "\n",
    "print('Accuracy score: {0:0.2f}'. format(correct_labels/float(y.size)))"
   ]
  },
  {
   "cell_type": "code",
   "execution_count": 33,
   "id": "efb710f0",
   "metadata": {},
   "outputs": [
    {
     "name": "stdout",
     "output_type": "stream",
     "text": [
      "Result: 22 out of 101 samples were correctly labeled.\n",
      "Accuracy score: 0.22\n"
     ]
    }
   ],
   "source": [
    "kmeans = KMeans(n_clusters=3, random_state=0)\n",
    "\n",
    "kmeans.fit(X)\n",
    "\n",
    "# check how many of the samples were correctly labeled\n",
    "labels = kmeans.labels_\n",
    "\n",
    "correct_labels = sum(y == labels)\n",
    "print(\"Result: %d out of %d samples were correctly labeled.\" % (correct_labels, y.size))\n",
    "print('Accuracy score: {0:0.2f}'. format(correct_labels/float(y.size)))"
   ]
  },
  {
   "cell_type": "code",
   "execution_count": 34,
   "id": "5727b201",
   "metadata": {},
   "outputs": [
    {
     "name": "stdout",
     "output_type": "stream",
     "text": [
      "Result: 17 out of 101 samples were correctly labeled.\n",
      "Accuracy score: 0.17\n"
     ]
    }
   ],
   "source": [
    "kmeans = KMeans(n_clusters=4, random_state=0)\n",
    "\n",
    "kmeans.fit(X)\n",
    "\n",
    "# check how many of the samples were correctly labeled\n",
    "labels = kmeans.labels_\n",
    "\n",
    "correct_labels = sum(y == labels)\n",
    "print(\"Result: %d out of %d samples were correctly labeled.\" % (correct_labels, y.size))\n",
    "print('Accuracy score: {0:0.2f}'. format(correct_labels/float(y.size)))"
   ]
  },
  {
   "cell_type": "code",
   "execution_count": 35,
   "id": "11d606e8",
   "metadata": {},
   "outputs": [
    {
     "name": "stdout",
     "output_type": "stream",
     "text": [
      "Result: 22 out of 101 samples were correctly labeled.\n",
      "Accuracy score: 0.22\n"
     ]
    }
   ],
   "source": [
    "kmeans = KMeans(n_clusters=5, random_state=0)\n",
    "\n",
    "kmeans.fit(X)\n",
    "\n",
    "# check how many of the samples were correctly labeled\n",
    "labels = kmeans.labels_\n",
    "\n",
    "correct_labels = sum(y == labels)\n",
    "print(\"Result: %d out of %d samples were correctly labeled.\" % (correct_labels, y.size))\n",
    "print('Accuracy score: {0:0.2f}'. format(correct_labels/float(y.size)))"
   ]
  },
  {
   "cell_type": "code",
   "execution_count": 36,
   "id": "270c6d1c",
   "metadata": {},
   "outputs": [
    {
     "name": "stdout",
     "output_type": "stream",
     "text": [
      "Result: 40 out of 101 samples were correctly labeled.\n",
      "Accuracy score: 0.40\n"
     ]
    }
   ],
   "source": [
    "kmeans = KMeans(n_clusters=6, random_state=0)\n",
    "\n",
    "kmeans.fit(X)\n",
    "\n",
    "# check how many of the samples were correctly labeled\n",
    "labels = kmeans.labels_\n",
    "\n",
    "correct_labels = sum(y == labels)\n",
    "print(\"Result: %d out of %d samples were correctly labeled.\" % (correct_labels, y.size))\n",
    "print('Accuracy score: {0:0.2f}'. format(correct_labels/float(y.size)))"
   ]
  },
  {
   "cell_type": "code",
   "execution_count": 37,
   "id": "18f7a57c",
   "metadata": {},
   "outputs": [
    {
     "name": "stdout",
     "output_type": "stream",
     "text": [
      "Result: 9 out of 101 samples were correctly labeled.\n",
      "Accuracy score: 0.09\n"
     ]
    }
   ],
   "source": [
    "kmeans = KMeans(n_clusters=7, random_state=0)\n",
    "\n",
    "kmeans.fit(X)\n",
    "\n",
    "# check how many of the samples were correctly labeled\n",
    "labels = kmeans.labels_\n",
    "\n",
    "correct_labels = sum(y == labels)\n",
    "print(\"Result: %d out of %d samples were correctly labeled.\" % (correct_labels, y.size))\n",
    "print('Accuracy score: {0:0.2f}'. format(correct_labels/float(y.size)))"
   ]
  },
  {
   "cell_type": "code",
   "execution_count": 38,
   "id": "97dd9420",
   "metadata": {},
   "outputs": [
    {
     "name": "stdout",
     "output_type": "stream",
     "text": [
      "Result: 39 out of 101 samples were correctly labeled.\n",
      "Accuracy score: 0.39\n"
     ]
    }
   ],
   "source": [
    "kmeans = KMeans(n_clusters=8, random_state=0)\n",
    "\n",
    "kmeans.fit(X)\n",
    "\n",
    "# check how many of the samples were correctly labeled\n",
    "labels = kmeans.labels_\n",
    "\n",
    "correct_labels = sum(y == labels)\n",
    "print(\"Result: %d out of %d samples were correctly labeled.\" % (correct_labels, y.size))\n",
    "print('Accuracy score: {0:0.2f}'. format(correct_labels/float(y.size)))"
   ]
  },
  {
   "cell_type": "code",
   "execution_count": 39,
   "id": "09460eab",
   "metadata": {},
   "outputs": [
    {
     "name": "stdout",
     "output_type": "stream",
     "text": [
      "Result: 12 out of 101 samples were correctly labeled.\n",
      "Accuracy score: 0.12\n"
     ]
    }
   ],
   "source": [
    "kmeans = KMeans(n_clusters=9, random_state=0)\n",
    "\n",
    "kmeans.fit(X)\n",
    "\n",
    "# check how many of the samples were correctly labeled\n",
    "labels = kmeans.labels_\n",
    "\n",
    "correct_labels = sum(y == labels)\n",
    "print(\"Result: %d out of %d samples were correctly labeled.\" % (correct_labels, y.size))\n",
    "print('Accuracy score: {0:0.2f}'. format(correct_labels/float(y.size)))"
   ]
  },
  {
   "cell_type": "code",
   "execution_count": 40,
   "id": "12b559fb",
   "metadata": {},
   "outputs": [
    {
     "name": "stdout",
     "output_type": "stream",
     "text": [
      "Result: 2 out of 101 samples were correctly labeled.\n",
      "Accuracy score: 0.02\n"
     ]
    }
   ],
   "source": [
    "kmeans = KMeans(n_clusters=10, random_state=0)\n",
    "\n",
    "kmeans.fit(X)\n",
    "\n",
    "# check how many of the samples were correctly labeled\n",
    "labels = kmeans.labels_\n",
    "\n",
    "correct_labels = sum(y == labels)\n",
    "print(\"Result: %d out of %d samples were correctly labeled.\" % (correct_labels, y.size))\n",
    "print('Accuracy score: {0:0.2f}'. format(correct_labels/float(y.size)))"
   ]
  }
 ],
 "metadata": {
  "kernelspec": {
   "display_name": "Python 3 (ipykernel)",
   "language": "python",
   "name": "python3"
  },
  "language_info": {
   "codemirror_mode": {
    "name": "ipython",
    "version": 3
   },
   "file_extension": ".py",
   "mimetype": "text/x-python",
   "name": "python",
   "nbconvert_exporter": "python",
   "pygments_lexer": "ipython3",
   "version": "3.10.4"
  }
 },
 "nbformat": 4,
 "nbformat_minor": 5
}
