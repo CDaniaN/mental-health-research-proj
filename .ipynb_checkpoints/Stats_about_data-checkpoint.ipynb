{
 "cells": [
  {
   "cell_type": "code",
   "execution_count": 1,
   "id": "614cbce0",
   "metadata": {},
   "outputs": [
    {
     "ename": "ModuleNotFoundError",
     "evalue": "No module named 'matplotlib'",
     "output_type": "error",
     "traceback": [
      "\u001b[0;31m---------------------------------------------------------------------------\u001b[0m",
      "\u001b[0;31mModuleNotFoundError\u001b[0m                       Traceback (most recent call last)",
      "Input \u001b[0;32mIn [1]\u001b[0m, in \u001b[0;36m<cell line: 5>\u001b[0;34m()\u001b[0m\n\u001b[1;32m      3\u001b[0m \u001b[38;5;28;01mfrom\u001b[39;00m \u001b[38;5;21;01msklearn\u001b[39;00m\u001b[38;5;21;01m.\u001b[39;00m\u001b[38;5;21;01mmetrics\u001b[39;00m \u001b[38;5;28;01mimport\u001b[39;00m mean_absolute_error \n\u001b[1;32m      4\u001b[0m \u001b[38;5;28;01mfrom\u001b[39;00m \u001b[38;5;21;01msklearn\u001b[39;00m\u001b[38;5;21;01m.\u001b[39;00m\u001b[38;5;21;01mmodel_selection\u001b[39;00m \u001b[38;5;28;01mimport\u001b[39;00m train_test_split\n\u001b[0;32m----> 5\u001b[0m \u001b[38;5;28;01mimport\u001b[39;00m \u001b[38;5;21;01mmatplotlib\u001b[39;00m\u001b[38;5;21;01m.\u001b[39;00m\u001b[38;5;21;01mpyplot\u001b[39;00m \u001b[38;5;28;01mas\u001b[39;00m \u001b[38;5;21;01mplt\u001b[39;00m\n",
      "\u001b[0;31mModuleNotFoundError\u001b[0m: No module named 'matplotlib'"
     ]
    }
   ],
   "source": [
    "import pandas as pd\n",
    "from sklearn.tree import DecisionTreeRegressor\n",
    "from sklearn.metrics import mean_absolute_error \n",
    "from sklearn.model_selection import train_test_split\n",
    "import matplotlib.pyplot as plt"
   ]
  },
  {
   "cell_type": "code",
   "execution_count": null,
   "id": "5b8997ce",
   "metadata": {},
   "outputs": [],
   "source": [
    "# save filepath to variable for easier access\n",
    "mentalhealth_file_path = '/home/steph/mental-health-research-proj/student_mental_health.csv'\n",
    "# read the data and store it in DataFrame (mentalhealth_data)\n",
    "mentalhealth_data = pd.read_csv(mentalhealth_file_path)"
   ]
  },
  {
   "cell_type": "code",
   "execution_count": null,
   "id": "26c31a92",
   "metadata": {},
   "outputs": [],
   "source": [
    "mentalhealth_data"
   ]
  },
  {
   "cell_type": "code",
   "execution_count": null,
   "id": "abe41c41",
   "metadata": {},
   "outputs": [],
   "source": [
    "# displays questionnaire questions\n",
    "mentalhealth_data.columns"
   ]
  },
  {
   "cell_type": "code",
   "execution_count": null,
   "id": "69aa5e03",
   "metadata": {},
   "outputs": [],
   "source": [
    "# dropna drops data with missing values \n",
    "mentalhealth_data = mentalhealth_data.dropna(axis=0)"
   ]
  },
  {
   "cell_type": "code",
   "execution_count": null,
   "id": "0470601e",
   "metadata": {},
   "outputs": [],
   "source": [
    "# gives a rundown of the data in the dataset\n",
    "mentalhealth_data.describe(include ='all')"
   ]
  },
  {
   "cell_type": "code",
   "execution_count": null,
   "id": "87958dc7",
   "metadata": {},
   "outputs": [],
   "source": [
    "# popularity of each course (how many students are in each)\n",
    "course_popularity = mentalhealth_data['What_is_your_course'].value_counts().reset_index().head()\n",
    "print(course_popularity)"
   ]
  },
  {
   "cell_type": "code",
   "execution_count": null,
   "id": "8b892200",
   "metadata": {},
   "outputs": [],
   "source": [
    "# number of female and males\n",
    "# 0 is male, 1 is female\n",
    "count_gender = mentalhealth_data['Choose_your_gender'].value_counts().reset_index()\n",
    "print(count_gender)"
   ]
  },
  {
   "cell_type": "code",
   "execution_count": null,
   "id": "b19c6b6d",
   "metadata": {},
   "outputs": [],
   "source": [
    "# mean age of both males and females\n",
    "# 0 is male, 1 is female\n",
    "mentalhealth_data['Age'].groupby(mentalhealth_data['Choose_your_gender']).mean().reset_index()"
   ]
  },
  {
   "cell_type": "code",
   "execution_count": null,
   "id": "5c06eacb",
   "metadata": {},
   "outputs": [],
   "source": [
    "# number of students married vs not married\n",
    "# 0 is not married, 1 is married\n",
    "marital_status = mentalhealth_data['Marital_status'].value_counts().reset_index()\n",
    "print(marital_status)"
   ]
  },
  {
   "cell_type": "code",
   "execution_count": null,
   "id": "5e101aec",
   "metadata": {},
   "outputs": [],
   "source": [
    "# percentage of total students facing depression\n",
    "depression = mentalhealth_data['Do_you_have_Depression'][mentalhealth_data['Do_you_have_Depression'] == 1].count()\n",
    "depression_percentage = (depression/mentalhealth_data.shape[0])*100\n",
    "print(\"%d percent of students in this study stated they have depression.\" %(depression_percentage))"
   ]
  },
  {
   "cell_type": "code",
   "execution_count": null,
   "id": "a754f431",
   "metadata": {},
   "outputs": [],
   "source": [
    "# percentage of students facing anxiety\n",
    "anxiety = mentalhealth_data['Do_you_have_Anxiety'][mentalhealth_data['Do_you_have_Anxiety'] == 1].count()\n",
    "anxiety_percentage = (anxiety/mentalhealth_data.shape[0])*100\n",
    "print(\"%d percent of students in this study stated they have anxiety.\" %(anxiety_percentage))"
   ]
  },
  {
   "cell_type": "code",
   "execution_count": null,
   "id": "6fe71400",
   "metadata": {},
   "outputs": [],
   "source": [
    "# percentage of students that endure panic attacks\n",
    "panic_attacks = mentalhealth_data['Do_you_have_Panic_attack'][mentalhealth_data['Do_you_have_Panic_attack'] == 1].count()\n",
    "panic_attacks_percentage = (panic_attacks/mentalhealth_data.shape[0])*100\n",
    "print(\"%d percent of students in this study stated they experience panic attacks.\" %(panic_attacks))"
   ]
  },
  {
   "cell_type": "code",
   "execution_count": null,
   "id": "3abc7502",
   "metadata": {},
   "outputs": [],
   "source": [
    "# percentage of students in the entire study that seeked treatment\n",
    "treatment_total = mentalhealth_data['Did_you_seek_any_specialist_for_a_treatment'][mentalhealth_data['Did_you_seek_any_specialist_for_a_treatment'] == 1].count()\n",
    "treatment_total_percentage = (treatment_total/mentalhealth_data.shape[0])*100\n",
    "print(\"%d percent of students in the entire study stated they did not seek any specialist for treatment.\" %(treatment_total_percentage))"
   ]
  },
  {
   "cell_type": "code",
   "execution_count": null,
   "id": "fc18dd5d",
   "metadata": {},
   "outputs": [],
   "source": [
    "#creating a dataframe of students facing all three problems\n",
    "students_facingall_df= mentalhealth_data[mentalhealth_data[['Do_you_have_Depression','Do_you_have_Anxiety','Do_you_have_Panic_attack']].nunique(axis=1)==1]\n",
    "students_facingall_df[mentalhealth_data['Do_you_have_Depression']==1]"
   ]
  },
  {
   "cell_type": "code",
   "execution_count": null,
   "id": "4fbcdd3e",
   "metadata": {},
   "outputs": [],
   "source": [
    "# percentage of students facing all three that seeked treatment\n",
    "treatment = students_facingall_df['Did_you_seek_any_specialist_for_a_treatment'][students_facingall_df['Did_you_seek_any_specialist_for_a_treatment'] == 1].count()\n",
    "treatment_percentage = (treatment/students_facingall_df.shape[0])*100\n",
    "print(\"%d percent of students enduring all three in this study stated they seeked treatment.\" %(treatment_percentage))"
   ]
  },
  {
   "cell_type": "code",
   "execution_count": null,
   "id": "9ff44b17",
   "metadata": {},
   "outputs": [],
   "source": [
    "# distribution of gender in the study\n",
    "plt.figure(figsize = (11, 10))\n",
    "plt.hist(mentalhealth_data['Choose_your_gender'], color = 'p')\n",
    "plt.title('Study Gender Distribution')"
   ]
  },
  {
   "cell_type": "code",
   "execution_count": null,
   "id": "790bf98a",
   "metadata": {},
   "outputs": [],
   "source": [
    "# prediction targets (what we are trying to predict with the data provided)\n",
    "a = mentalhealth_data.Do_you_have_Depression\n",
    "b = mentalhealth_data.Do_you_have_Anxiety\n",
    "c = mentalhealth_data.Do_you_have_Panic_attack\n",
    "d = mentalhealth_data.Did_you_seek_any_specialist_for_a_treatment"
   ]
  },
  {
   "cell_type": "code",
   "execution_count": null,
   "id": "12ec8f74",
   "metadata": {},
   "outputs": [],
   "source": [
    "# columns to be used to make predictions that may affect the outcome\n",
    "# removed \"What is your course\" to ensure data can be read correctly\n",
    "mentalhealth_features = ['Choose_your_gender', 'Age', 'Your_current_year_of_Study', 'What_is_your_CGPA', 'Marital_status']\n",
    "#took out course bc its string\n",
    "X = mentalhealth_data[mentalhealth_features]\n",
    "X.describe(include = 'all')"
   ]
  },
  {
   "cell_type": "code",
   "execution_count": null,
   "id": "796a2586",
   "metadata": {},
   "outputs": [],
   "source": [
    "# defines the model - specify num for random state to ensure same results each run\n",
    "mentalhealth_model = DecisionTreeRegressor(random_state = 1)\n",
    "# Fit model\n",
    "mentalhealth_model.fit(X,a)\n",
    "#DecisionTreeRegressor(random_state = 1)"
   ]
  },
  {
   "cell_type": "code",
   "execution_count": null,
   "id": "452f084c",
   "metadata": {},
   "outputs": [],
   "source": [
    "print(\"Making predictions for the following 5 samples:\")\n",
    "print(X.head())\n",
    "print(\"Predictions are the following: \")\n",
    "print(mentalhealth_model.predict(X.head()))"
   ]
  },
  {
   "cell_type": "code",
   "execution_count": null,
   "id": "a53009de",
   "metadata": {},
   "outputs": [],
   "source": [
    "print(\"Mean in-sample absolute error: \")\n",
    "predicted_depression_status = mentalhealth_model.predict(X)\n",
    "# in-sample mean abs error\n",
    "# for initial parameter estimation and model selection\n",
    "mean_absolute_error(a, predicted_depression_status)"
   ]
  },
  {
   "cell_type": "code",
   "execution_count": null,
   "id": "53d0c03a",
   "metadata": {},
   "outputs": [],
   "source": [
    "# this will split data into training and validation data for features & target \n",
    "# random_state = 1 to ensure same split every time script is run\n",
    "train_X, val_X, train_a, val_a = train_test_split(X, a, random_state = 1)\n",
    "# fit model\n",
    "mentalhealth_model.fit(train_X, train_a)\n",
    "# predicted depression values based on validation data:\n",
    "val_predictions = mentalhealth_model.predict(val_X)\n",
    "# out of sample mean abs error:\n",
    "# used to evaluate forecasting performance\n",
    "print(\"Mean out-of-sample absolute error: \")\n",
    "print(mean_absolute_error(val_a, val_predictions))\n",
    "print(\"The mean in-sample abs error is smaller than the mean out-of-sample abs error, so in-sample is better to use.\")"
   ]
  },
  {
   "cell_type": "code",
   "execution_count": null,
   "id": "80844a2d",
   "metadata": {},
   "outputs": [],
   "source": []
  }
 ],
 "metadata": {
  "kernelspec": {
   "display_name": "Python 3 (ipykernel)",
   "language": "python",
   "name": "python3"
  },
  "language_info": {
   "codemirror_mode": {
    "name": "ipython",
    "version": 3
   },
   "file_extension": ".py",
   "mimetype": "text/x-python",
   "name": "python",
   "nbconvert_exporter": "python",
   "pygments_lexer": "ipython3",
   "version": "3.10.4"
  }
 },
 "nbformat": 4,
 "nbformat_minor": 5
}
